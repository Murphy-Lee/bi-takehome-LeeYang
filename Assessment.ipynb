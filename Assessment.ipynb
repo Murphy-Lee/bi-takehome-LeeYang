{
 "cells": [
  {
   "cell_type": "markdown",
   "id": "2860bdeb",
   "metadata": {},
   "source": [
    "# Assessment"
   ]
  },
  {
   "cell_type": "markdown",
   "id": "583223ea",
   "metadata": {},
   "source": [
    "### 🧠 Task:\n",
    "\n",
    "1. **Data Cleaning & Exploration**\n",
    "\n",
    "   * Perform basic EDA (Exploratory Data Analysis)\n",
    "   * Identify any data quality issues or assumptions\n",
    "\n",
    "2. **Merchant Performance Metrics**\n",
    "\n",
    "   * Define and calculate relevant KPIs for merchant performance (e.g., number of active members, avg spend per member, retention rate)\n",
    "   * Identify top and bottom merchants using your metrics\n",
    "\n",
    "3. **Insights & Recommendations**\n",
    "\n",
    "   * Summarize key business insights\n",
    "   * Recommend what actions should be taken for underperforming merchants\n",
    "\n",
    "4. **Dashboard/Visualization**\n",
    "\n",
    "   * Build a simple dashboard to communicate your findings (in Tableau Public or screenshots if using other tools)\n",
    "   * Include filters or interactive components if applicable"
   ]
  },
  {
   "cell_type": "markdown",
   "id": "2c9b29fa",
   "metadata": {},
   "source": []
  },
  {
   "cell_type": "markdown",
   "id": "0a45eead",
   "metadata": {},
   "source": [
    "# Library"
   ]
  },
  {
   "cell_type": "code",
   "execution_count": 1,
   "id": "c7454b90",
   "metadata": {},
   "outputs": [],
   "source": [
    "import pandas as pd\n",
    "import os\n",
    "import matplotlib.pyplot as plt"
   ]
  },
  {
   "cell_type": "code",
   "execution_count": null,
   "id": "9f31d467",
   "metadata": {},
   "outputs": [],
   "source": []
  },
  {
   "cell_type": "code",
   "execution_count": 2,
   "id": "2d0ea2cb",
   "metadata": {},
   "outputs": [],
   "source": [
    "os.chdir(r'C:\\Users\\User\\OneDrive\\文档\\Work\\data-takehome-test_bi-main')"
   ]
  },
  {
   "cell_type": "code",
   "execution_count": 3,
   "id": "5024dd57",
   "metadata": {},
   "outputs": [],
   "source": [
    "os.listdir()\n",
    "\n",
    "csv_files = [f for f in os.listdir() if f.endswith('.csv')]\n",
    "# Load all CSVs into dataframes and store them in a dictionary\n",
    "dfs = {os.path.splitext(f)[0]: pd.read_csv(f) for f in csv_files}\n",
    "\n",
    "df_members = dfs['members']\n",
    "df_merchants = dfs['merchants']\n",
    "df_transactions = dfs['transactions']\n",
    "df_engagements = dfs['engagement']"
   ]
  },
  {
   "cell_type": "code",
   "execution_count": null,
   "id": "91f688a6",
   "metadata": {},
   "outputs": [],
   "source": []
  },
  {
   "cell_type": "code",
   "execution_count": 4,
   "id": "9970753c",
   "metadata": {},
   "outputs": [
    {
     "name": "stdout",
     "output_type": "stream",
     "text": [
      "<class 'pandas.core.frame.DataFrame'>\n",
      "RangeIndex: 500 entries, 0 to 499\n",
      "Data columns (total 5 columns):\n",
      " #   Column       Non-Null Count  Dtype \n",
      "---  ------       --------------  ----- \n",
      " 0   member_id    500 non-null    object\n",
      " 1   signup_date  500 non-null    object\n",
      " 2   tier         500 non-null    object\n",
      " 3   age_group    500 non-null    object\n",
      " 4   state        500 non-null    object\n",
      "dtypes: object(5)\n",
      "memory usage: 19.7+ KB\n"
     ]
    },
    {
     "data": {
      "text/plain": [
       "None"
      ]
     },
     "metadata": {},
     "output_type": "display_data"
    },
    {
     "name": "stdout",
     "output_type": "stream",
     "text": [
      "<class 'pandas.core.frame.DataFrame'>\n",
      "RangeIndex: 20 entries, 0 to 19\n",
      "Data columns (total 5 columns):\n",
      " #   Column         Non-Null Count  Dtype \n",
      "---  ------         --------------  ----- \n",
      " 0   merchant_id    20 non-null     object\n",
      " 1   merchant_name  20 non-null     object\n",
      " 2   category       20 non-null     object\n",
      " 3   location       20 non-null     object\n",
      " 4   join_date      20 non-null     object\n",
      "dtypes: object(5)\n",
      "memory usage: 932.0+ bytes\n"
     ]
    },
    {
     "data": {
      "text/plain": [
       "None"
      ]
     },
     "metadata": {},
     "output_type": "display_data"
    },
    {
     "name": "stdout",
     "output_type": "stream",
     "text": [
      "<class 'pandas.core.frame.DataFrame'>\n",
      "RangeIndex: 3000 entries, 0 to 2999\n",
      "Data columns (total 5 columns):\n",
      " #   Column          Non-Null Count  Dtype  \n",
      "---  ------          --------------  -----  \n",
      " 0   transaction_id  3000 non-null   object \n",
      " 1   member_id       3000 non-null   object \n",
      " 2   merchant_id     3000 non-null   object \n",
      " 3   spend_amount    3000 non-null   float64\n",
      " 4   timestamp       3000 non-null   object \n",
      "dtypes: float64(1), object(4)\n",
      "memory usage: 117.3+ KB\n"
     ]
    },
    {
     "data": {
      "text/plain": [
       "None"
      ]
     },
     "metadata": {},
     "output_type": "display_data"
    },
    {
     "name": "stdout",
     "output_type": "stream",
     "text": [
      "<class 'pandas.core.frame.DataFrame'>\n",
      "RangeIndex: 500 entries, 0 to 499\n",
      "Data columns (total 4 columns):\n",
      " #   Column          Non-Null Count  Dtype \n",
      "---  ------          --------------  ----- \n",
      " 0   member_id       500 non-null    object\n",
      " 1   monthly_logins  500 non-null    int64 \n",
      " 2   redemptions     500 non-null    int64 \n",
      " 3   app_opens       500 non-null    int64 \n",
      "dtypes: int64(3), object(1)\n",
      "memory usage: 15.8+ KB\n"
     ]
    },
    {
     "data": {
      "text/plain": [
       "None"
      ]
     },
     "metadata": {},
     "output_type": "display_data"
    }
   ],
   "source": [
    "# 1. Data Cleaning & Exploration\n",
    "# - Check for missing values, duplicates, and data types\n",
    "display(df_members.info())\n",
    "display(df_merchants.info())\n",
    "display(df_transactions.info())\n",
    "display(df_engagements.info())"
   ]
  },
  {
   "cell_type": "code",
   "execution_count": 7,
   "id": "066ba1c2",
   "metadata": {},
   "outputs": [
    {
     "data": {
      "text/plain": [
       "'df_members head:'"
      ]
     },
     "metadata": {},
     "output_type": "display_data"
    },
    {
     "data": {
      "text/html": [
       "<div>\n",
       "<style scoped>\n",
       "    .dataframe tbody tr th:only-of-type {\n",
       "        vertical-align: middle;\n",
       "    }\n",
       "\n",
       "    .dataframe tbody tr th {\n",
       "        vertical-align: top;\n",
       "    }\n",
       "\n",
       "    .dataframe thead th {\n",
       "        text-align: right;\n",
       "    }\n",
       "</style>\n",
       "<table border=\"1\" class=\"dataframe\">\n",
       "  <thead>\n",
       "    <tr style=\"text-align: right;\">\n",
       "      <th></th>\n",
       "      <th>member_id</th>\n",
       "      <th>signup_date</th>\n",
       "      <th>tier</th>\n",
       "      <th>age_group</th>\n",
       "      <th>state</th>\n",
       "    </tr>\n",
       "  </thead>\n",
       "  <tbody>\n",
       "    <tr>\n",
       "      <th>0</th>\n",
       "      <td>M0001</td>\n",
       "      <td>2022-04-13</td>\n",
       "      <td>Gold</td>\n",
       "      <td>55+</td>\n",
       "      <td>Sabah</td>\n",
       "    </tr>\n",
       "    <tr>\n",
       "      <th>1</th>\n",
       "      <td>M0002</td>\n",
       "      <td>2022-12-15</td>\n",
       "      <td>Silver</td>\n",
       "      <td>18-24</td>\n",
       "      <td>Penang</td>\n",
       "    </tr>\n",
       "    <tr>\n",
       "      <th>2</th>\n",
       "      <td>M0003</td>\n",
       "      <td>2022-09-28</td>\n",
       "      <td>Silver</td>\n",
       "      <td>55+</td>\n",
       "      <td>Kuala Lumpur</td>\n",
       "    </tr>\n",
       "    <tr>\n",
       "      <th>3</th>\n",
       "      <td>M0004</td>\n",
       "      <td>2022-04-17</td>\n",
       "      <td>Platinum</td>\n",
       "      <td>55+</td>\n",
       "      <td>Johor</td>\n",
       "    </tr>\n",
       "    <tr>\n",
       "      <th>4</th>\n",
       "      <td>M0005</td>\n",
       "      <td>2022-03-13</td>\n",
       "      <td>Silver</td>\n",
       "      <td>35-44</td>\n",
       "      <td>Penang</td>\n",
       "    </tr>\n",
       "  </tbody>\n",
       "</table>\n",
       "</div>"
      ],
      "text/plain": [
       "  member_id signup_date      tier age_group         state\n",
       "0     M0001  2022-04-13      Gold       55+         Sabah\n",
       "1     M0002  2022-12-15    Silver     18-24        Penang\n",
       "2     M0003  2022-09-28    Silver       55+  Kuala Lumpur\n",
       "3     M0004  2022-04-17  Platinum       55+         Johor\n",
       "4     M0005  2022-03-13    Silver     35-44        Penang"
      ]
     },
     "metadata": {},
     "output_type": "display_data"
    },
    {
     "data": {
      "text/plain": [
       "'df_merchants head:'"
      ]
     },
     "metadata": {},
     "output_type": "display_data"
    },
    {
     "data": {
      "text/html": [
       "<div>\n",
       "<style scoped>\n",
       "    .dataframe tbody tr th:only-of-type {\n",
       "        vertical-align: middle;\n",
       "    }\n",
       "\n",
       "    .dataframe tbody tr th {\n",
       "        vertical-align: top;\n",
       "    }\n",
       "\n",
       "    .dataframe thead th {\n",
       "        text-align: right;\n",
       "    }\n",
       "</style>\n",
       "<table border=\"1\" class=\"dataframe\">\n",
       "  <thead>\n",
       "    <tr style=\"text-align: right;\">\n",
       "      <th></th>\n",
       "      <th>merchant_id</th>\n",
       "      <th>merchant_name</th>\n",
       "      <th>category</th>\n",
       "      <th>location</th>\n",
       "      <th>join_date</th>\n",
       "    </tr>\n",
       "  </thead>\n",
       "  <tbody>\n",
       "    <tr>\n",
       "      <th>0</th>\n",
       "      <td>MER001</td>\n",
       "      <td>Merchant_1</td>\n",
       "      <td>eCommerce</td>\n",
       "      <td>Penang</td>\n",
       "      <td>2022-04-11</td>\n",
       "    </tr>\n",
       "    <tr>\n",
       "      <th>1</th>\n",
       "      <td>MER002</td>\n",
       "      <td>Merchant_2</td>\n",
       "      <td>eCommerce</td>\n",
       "      <td>PJ</td>\n",
       "      <td>2021-11-07</td>\n",
       "    </tr>\n",
       "    <tr>\n",
       "      <th>2</th>\n",
       "      <td>MER003</td>\n",
       "      <td>Merchant_3</td>\n",
       "      <td>eCommerce</td>\n",
       "      <td>KK</td>\n",
       "      <td>2021-09-19</td>\n",
       "    </tr>\n",
       "    <tr>\n",
       "      <th>3</th>\n",
       "      <td>MER004</td>\n",
       "      <td>Merchant_4</td>\n",
       "      <td>eCommerce</td>\n",
       "      <td>Penang</td>\n",
       "      <td>2022-02-23</td>\n",
       "    </tr>\n",
       "    <tr>\n",
       "      <th>4</th>\n",
       "      <td>MER005</td>\n",
       "      <td>Merchant_5</td>\n",
       "      <td>Retail</td>\n",
       "      <td>KL</td>\n",
       "      <td>2022-02-10</td>\n",
       "    </tr>\n",
       "  </tbody>\n",
       "</table>\n",
       "</div>"
      ],
      "text/plain": [
       "  merchant_id merchant_name   category location   join_date\n",
       "0      MER001    Merchant_1  eCommerce   Penang  2022-04-11\n",
       "1      MER002    Merchant_2  eCommerce       PJ  2021-11-07\n",
       "2      MER003    Merchant_3  eCommerce       KK  2021-09-19\n",
       "3      MER004    Merchant_4  eCommerce   Penang  2022-02-23\n",
       "4      MER005    Merchant_5     Retail       KL  2022-02-10"
      ]
     },
     "metadata": {},
     "output_type": "display_data"
    },
    {
     "data": {
      "text/plain": [
       "'df_transactions head:'"
      ]
     },
     "metadata": {},
     "output_type": "display_data"
    },
    {
     "data": {
      "text/html": [
       "<div>\n",
       "<style scoped>\n",
       "    .dataframe tbody tr th:only-of-type {\n",
       "        vertical-align: middle;\n",
       "    }\n",
       "\n",
       "    .dataframe tbody tr th {\n",
       "        vertical-align: top;\n",
       "    }\n",
       "\n",
       "    .dataframe thead th {\n",
       "        text-align: right;\n",
       "    }\n",
       "</style>\n",
       "<table border=\"1\" class=\"dataframe\">\n",
       "  <thead>\n",
       "    <tr style=\"text-align: right;\">\n",
       "      <th></th>\n",
       "      <th>transaction_id</th>\n",
       "      <th>member_id</th>\n",
       "      <th>merchant_id</th>\n",
       "      <th>spend_amount</th>\n",
       "      <th>timestamp</th>\n",
       "    </tr>\n",
       "  </thead>\n",
       "  <tbody>\n",
       "    <tr>\n",
       "      <th>0</th>\n",
       "      <td>T00001</td>\n",
       "      <td>M0076</td>\n",
       "      <td>MER010</td>\n",
       "      <td>9.76</td>\n",
       "      <td>2023-06-07</td>\n",
       "    </tr>\n",
       "    <tr>\n",
       "      <th>1</th>\n",
       "      <td>T00002</td>\n",
       "      <td>M0385</td>\n",
       "      <td>MER010</td>\n",
       "      <td>5.81</td>\n",
       "      <td>2023-05-14</td>\n",
       "    </tr>\n",
       "    <tr>\n",
       "      <th>2</th>\n",
       "      <td>T00003</td>\n",
       "      <td>M0439</td>\n",
       "      <td>MER020</td>\n",
       "      <td>41.85</td>\n",
       "      <td>2023-03-08</td>\n",
       "    </tr>\n",
       "    <tr>\n",
       "      <th>3</th>\n",
       "      <td>T00004</td>\n",
       "      <td>M0278</td>\n",
       "      <td>MER009</td>\n",
       "      <td>131.79</td>\n",
       "      <td>2023-12-02</td>\n",
       "    </tr>\n",
       "    <tr>\n",
       "      <th>4</th>\n",
       "      <td>T00005</td>\n",
       "      <td>M0040</td>\n",
       "      <td>MER017</td>\n",
       "      <td>2.82</td>\n",
       "      <td>2023-01-07</td>\n",
       "    </tr>\n",
       "  </tbody>\n",
       "</table>\n",
       "</div>"
      ],
      "text/plain": [
       "  transaction_id member_id merchant_id  spend_amount   timestamp\n",
       "0         T00001     M0076      MER010          9.76  2023-06-07\n",
       "1         T00002     M0385      MER010          5.81  2023-05-14\n",
       "2         T00003     M0439      MER020         41.85  2023-03-08\n",
       "3         T00004     M0278      MER009        131.79  2023-12-02\n",
       "4         T00005     M0040      MER017          2.82  2023-01-07"
      ]
     },
     "metadata": {},
     "output_type": "display_data"
    },
    {
     "data": {
      "text/plain": [
       "'df_engagements head:'"
      ]
     },
     "metadata": {},
     "output_type": "display_data"
    },
    {
     "data": {
      "text/html": [
       "<div>\n",
       "<style scoped>\n",
       "    .dataframe tbody tr th:only-of-type {\n",
       "        vertical-align: middle;\n",
       "    }\n",
       "\n",
       "    .dataframe tbody tr th {\n",
       "        vertical-align: top;\n",
       "    }\n",
       "\n",
       "    .dataframe thead th {\n",
       "        text-align: right;\n",
       "    }\n",
       "</style>\n",
       "<table border=\"1\" class=\"dataframe\">\n",
       "  <thead>\n",
       "    <tr style=\"text-align: right;\">\n",
       "      <th></th>\n",
       "      <th>member_id</th>\n",
       "      <th>monthly_logins</th>\n",
       "      <th>redemptions</th>\n",
       "      <th>app_opens</th>\n",
       "    </tr>\n",
       "  </thead>\n",
       "  <tbody>\n",
       "    <tr>\n",
       "      <th>0</th>\n",
       "      <td>M0001</td>\n",
       "      <td>4</td>\n",
       "      <td>1</td>\n",
       "      <td>10</td>\n",
       "    </tr>\n",
       "    <tr>\n",
       "      <th>1</th>\n",
       "      <td>M0002</td>\n",
       "      <td>4</td>\n",
       "      <td>1</td>\n",
       "      <td>7</td>\n",
       "    </tr>\n",
       "    <tr>\n",
       "      <th>2</th>\n",
       "      <td>M0003</td>\n",
       "      <td>6</td>\n",
       "      <td>2</td>\n",
       "      <td>11</td>\n",
       "    </tr>\n",
       "    <tr>\n",
       "      <th>3</th>\n",
       "      <td>M0004</td>\n",
       "      <td>3</td>\n",
       "      <td>1</td>\n",
       "      <td>16</td>\n",
       "    </tr>\n",
       "    <tr>\n",
       "      <th>4</th>\n",
       "      <td>M0005</td>\n",
       "      <td>3</td>\n",
       "      <td>1</td>\n",
       "      <td>7</td>\n",
       "    </tr>\n",
       "  </tbody>\n",
       "</table>\n",
       "</div>"
      ],
      "text/plain": [
       "  member_id  monthly_logins  redemptions  app_opens\n",
       "0     M0001               4            1         10\n",
       "1     M0002               4            1          7\n",
       "2     M0003               6            2         11\n",
       "3     M0004               3            1         16\n",
       "4     M0005               3            1          7"
      ]
     },
     "metadata": {},
     "output_type": "display_data"
    }
   ],
   "source": [
    "display(\"df_members head:\")\n",
    "display(df_members.head())\n",
    "\n",
    "display(\"df_merchants head:\")\n",
    "display(df_merchants.head())\n",
    "\n",
    "display(\"df_transactions head:\")\n",
    "display(df_transactions.head())\n",
    "\n",
    "display(\"df_engagements head:\")\n",
    "display(df_engagements.head())"
   ]
  },
  {
   "cell_type": "code",
   "execution_count": null,
   "id": "255e2878",
   "metadata": {},
   "outputs": [],
   "source": []
  },
  {
   "cell_type": "code",
   "execution_count": null,
   "id": "5d661a3a",
   "metadata": {},
   "outputs": [
    {
     "name": "stdout",
     "output_type": "stream",
     "text": [
      "Member count by state:\n"
     ]
    },
    {
     "data": {
      "text/plain": [
       "state\n",
       "Johor           111\n",
       "Kuala Lumpur    108\n",
       "Sabah           100\n",
       "Selangor        100\n",
       "Penang           81\n",
       "Name: count, dtype: int64"
      ]
     },
     "metadata": {},
     "output_type": "display_data"
    },
    {
     "name": "stdout",
     "output_type": "stream",
     "text": [
      "\n",
      "Member count by age group:\n"
     ]
    },
    {
     "data": {
      "text/plain": [
       "age_group\n",
       "55+      107\n",
       "35-44    106\n",
       "25-34    106\n",
       "18-24     98\n",
       "45-54     83\n",
       "Name: count, dtype: int64"
      ]
     },
     "metadata": {},
     "output_type": "display_data"
    },
    {
     "name": "stdout",
     "output_type": "stream",
     "text": [
      "\n",
      "Member signups by month:\n"
     ]
    },
    {
     "data": {
      "text/plain": [
       "signup_date\n",
       "2022-01    31\n",
       "2022-02    47\n",
       "2022-03    23\n",
       "2022-04    49\n",
       "2022-05    51\n",
       "2022-06    44\n",
       "2022-07    37\n",
       "2022-08    47\n",
       "2022-09    45\n",
       "2022-10    43\n",
       "2022-11    38\n",
       "2022-12    45\n",
       "Freq: M, Name: count, dtype: int64"
      ]
     },
     "metadata": {},
     "output_type": "display_data"
    },
    {
     "name": "stdout",
     "output_type": "stream",
     "text": [
      "\n",
      "Members by state and age group:\n"
     ]
    },
    {
     "data": {
      "text/html": [
       "<div>\n",
       "<style scoped>\n",
       "    .dataframe tbody tr th:only-of-type {\n",
       "        vertical-align: middle;\n",
       "    }\n",
       "\n",
       "    .dataframe tbody tr th {\n",
       "        vertical-align: top;\n",
       "    }\n",
       "\n",
       "    .dataframe thead th {\n",
       "        text-align: right;\n",
       "    }\n",
       "</style>\n",
       "<table border=\"1\" class=\"dataframe\">\n",
       "  <thead>\n",
       "    <tr style=\"text-align: right;\">\n",
       "      <th>age_group</th>\n",
       "      <th>18-24</th>\n",
       "      <th>25-34</th>\n",
       "      <th>35-44</th>\n",
       "      <th>45-54</th>\n",
       "      <th>55+</th>\n",
       "    </tr>\n",
       "    <tr>\n",
       "      <th>state</th>\n",
       "      <th></th>\n",
       "      <th></th>\n",
       "      <th></th>\n",
       "      <th></th>\n",
       "      <th></th>\n",
       "    </tr>\n",
       "  </thead>\n",
       "  <tbody>\n",
       "    <tr>\n",
       "      <th>Johor</th>\n",
       "      <td>25</td>\n",
       "      <td>28</td>\n",
       "      <td>23</td>\n",
       "      <td>15</td>\n",
       "      <td>20</td>\n",
       "    </tr>\n",
       "    <tr>\n",
       "      <th>Kuala Lumpur</th>\n",
       "      <td>26</td>\n",
       "      <td>17</td>\n",
       "      <td>24</td>\n",
       "      <td>13</td>\n",
       "      <td>28</td>\n",
       "    </tr>\n",
       "    <tr>\n",
       "      <th>Penang</th>\n",
       "      <td>20</td>\n",
       "      <td>13</td>\n",
       "      <td>18</td>\n",
       "      <td>14</td>\n",
       "      <td>16</td>\n",
       "    </tr>\n",
       "    <tr>\n",
       "      <th>Sabah</th>\n",
       "      <td>9</td>\n",
       "      <td>26</td>\n",
       "      <td>22</td>\n",
       "      <td>25</td>\n",
       "      <td>18</td>\n",
       "    </tr>\n",
       "    <tr>\n",
       "      <th>Selangor</th>\n",
       "      <td>18</td>\n",
       "      <td>22</td>\n",
       "      <td>19</td>\n",
       "      <td>16</td>\n",
       "      <td>25</td>\n",
       "    </tr>\n",
       "  </tbody>\n",
       "</table>\n",
       "</div>"
      ],
      "text/plain": [
       "age_group     18-24  25-34  35-44  45-54  55+\n",
       "state                                        \n",
       "Johor            25     28     23     15   20\n",
       "Kuala Lumpur     26     17     24     13   28\n",
       "Penang           20     13     18     14   16\n",
       "Sabah             9     26     22     25   18\n",
       "Selangor         18     22     19     16   25"
      ]
     },
     "metadata": {},
     "output_type": "display_data"
    }
   ],
   "source": [
    "# Analyze member distribution by state and age group\n",
    "\n",
    "# Members by state\n",
    "state_counts = df_members['state'].value_counts()\n",
    "print(\"Member count by state:\")\n",
    "display(state_counts)\n",
    "\n",
    "# Members by age group\n",
    "age_group_counts = df_members['age_group'].value_counts()\n",
    "print(\"\\nMember count by age group:\")\n",
    "display(age_group_counts)\n",
    "\n",
    "# Signup analysis: members by signup month\n",
    "df_members['signup_date'] = pd.to_datetime(df_members['signup_date'])\n",
    "signup_month = df_members['signup_date'].dt.to_period('M').value_counts().sort_index()\n",
    "print(\"\\nMember signups by month:\")\n",
    "display(signup_month)\n",
    "\n",
    "# Cross-tabulation of state and age group\n",
    "state_age_group = pd.crosstab(df_members['state'], df_members['age_group'])\n",
    "print(\"\\nMembers by state and age group:\")\n",
    "display(state_age_group)"
   ]
  },
  {
   "cell_type": "markdown",
   "id": "3203fde7",
   "metadata": {
    "vscode": {
     "languageId": "markdown"
    }
   },
   "source": [
    "### Analysis of Member Distribution Patterns\n",
    "\n",
    "#### 1. State Distribution\n",
    "Johor and Kuala Lumpur have the highest number of members (111 and 108), followed by Sabah and Selangor (100 each), and Penang (81).\n",
    "This suggests that Johor and KL are key markets with higher member engagement or acquisition.\n",
    "\n",
    "#### 2. Age Group Distribution\n",
    "The largest age group is 55+ (107 members), followed closely by 35-44 and 25-34 (106 each), then 18-24 (98), and 45-54 (83).\n",
    "This indicates a relatively older member base, with a strong presence in the 55+ segment.\n",
    "\n",
    "#### 3. State vs Age Group (state_age_group)\n",
    "- KL & Selangor have a significant number of members in the 55+ age group.\n",
    "- Sabah has a more balanced distribution across age groups, with higher numbers in 25-34, 35-44, and 45-54.\n",
    "- Johor and KL have strong representation in the 18-24 and 55+ groups.\n",
    "- Penang has the lowest member count overall, with a relatively even spread across age groups.\n",
    "\n",
    "#### 4. Signup Trends (signup_month)\n",
    "There are spikes in member signups in April, May, August, and December 2022.\n",
    "This could be due to marketing campaigns, seasonal promotions, or other external factors.\n",
    "\n",
    "##### Summary of Patterns:\n",
    "- Johor and KL are the largest states by member count.\n",
    "- The 55+ age group is the largest, especially in KL and Selangor.\n",
    "- Sabah has a more even age distribution.\n",
    "- Signup activity varies by month, with some clear peaks.\n",
    "\n",
    "##### Recommendations for further analysis:\n",
    "- Investigate what drives higher signups in certain months.\n",
    "- Explore engagement and transaction patterns by age group and state.\n",
    "- Consider targeted campaigns for underrepresented states (e.g., Penang) or age groups (e.g., 45-54)."
   ]
  },
  {
   "cell_type": "code",
   "execution_count": null,
   "id": "a1d631c0",
   "metadata": {},
   "outputs": [
    {
     "name": "stdout",
     "output_type": "stream",
     "text": [
      "Merchant categories:\n"
     ]
    },
    {
     "data": {
      "text/plain": [
       "category\n",
       "eCommerce    9\n",
       "Retail       5\n",
       "F&B          5\n",
       "Travel       1\n",
       "Name: count, dtype: int64"
      ]
     },
     "metadata": {},
     "output_type": "display_data"
    },
    {
     "name": "stdout",
     "output_type": "stream",
     "text": [
      "\n",
      "Merchant locations:\n"
     ]
    },
    {
     "data": {
      "text/plain": [
       "location\n",
       "PJ        5\n",
       "KL        5\n",
       "Penang    4\n",
       "KK        3\n",
       "JB        3\n",
       "Name: count, dtype: int64"
      ]
     },
     "metadata": {},
     "output_type": "display_data"
    },
    {
     "name": "stdout",
     "output_type": "stream",
     "text": [
      "\n",
      "Merchant join date range:\n"
     ]
    },
    {
     "data": {
      "text/plain": [
       "'2021-01-12'"
      ]
     },
     "metadata": {},
     "output_type": "display_data"
    },
    {
     "data": {
      "text/plain": [
       "'2022-11-09'"
      ]
     },
     "metadata": {},
     "output_type": "display_data"
    },
    {
     "name": "stdout",
     "output_type": "stream",
     "text": [
      "\n",
      "Transaction spend amount stats:\n"
     ]
    },
    {
     "data": {
      "text/plain": [
       "count    3000.00000\n",
       "mean       50.07977\n",
       "std        50.56371\n",
       "min         0.01000\n",
       "25%        15.09000\n",
       "50%        34.53500\n",
       "75%        68.75750\n",
       "max       412.99000\n",
       "Name: spend_amount, dtype: float64"
      ]
     },
     "metadata": {},
     "output_type": "display_data"
    },
    {
     "name": "stdout",
     "output_type": "stream",
     "text": [
      "\n",
      "Transaction date range:\n"
     ]
    },
    {
     "data": {
      "text/plain": [
       "'2023-01-01'"
      ]
     },
     "metadata": {},
     "output_type": "display_data"
    },
    {
     "data": {
      "text/plain": [
       "'2023-12-31'"
      ]
     },
     "metadata": {},
     "output_type": "display_data"
    },
    {
     "name": "stdout",
     "output_type": "stream",
     "text": [
      "\n",
      "Unique merchants in transactions: 20\n",
      "Unique members in transactions: 498\n",
      "\n",
      "Engagement metrics summary:\n"
     ]
    },
    {
     "data": {
      "text/html": [
       "<div>\n",
       "<style scoped>\n",
       "    .dataframe tbody tr th:only-of-type {\n",
       "        vertical-align: middle;\n",
       "    }\n",
       "\n",
       "    .dataframe tbody tr th {\n",
       "        vertical-align: top;\n",
       "    }\n",
       "\n",
       "    .dataframe thead th {\n",
       "        text-align: right;\n",
       "    }\n",
       "</style>\n",
       "<table border=\"1\" class=\"dataframe\">\n",
       "  <thead>\n",
       "    <tr style=\"text-align: right;\">\n",
       "      <th></th>\n",
       "      <th>monthly_logins</th>\n",
       "      <th>redemptions</th>\n",
       "      <th>app_opens</th>\n",
       "    </tr>\n",
       "  </thead>\n",
       "  <tbody>\n",
       "    <tr>\n",
       "      <th>count</th>\n",
       "      <td>500.000000</td>\n",
       "      <td>500.000000</td>\n",
       "      <td>500.000000</td>\n",
       "    </tr>\n",
       "    <tr>\n",
       "      <th>mean</th>\n",
       "      <td>4.006000</td>\n",
       "      <td>1.586000</td>\n",
       "      <td>10.042000</td>\n",
       "    </tr>\n",
       "    <tr>\n",
       "      <th>std</th>\n",
       "      <td>1.978331</td>\n",
       "      <td>1.047281</td>\n",
       "      <td>3.017025</td>\n",
       "    </tr>\n",
       "    <tr>\n",
       "      <th>min</th>\n",
       "      <td>0.000000</td>\n",
       "      <td>0.000000</td>\n",
       "      <td>3.000000</td>\n",
       "    </tr>\n",
       "    <tr>\n",
       "      <th>25%</th>\n",
       "      <td>3.000000</td>\n",
       "      <td>1.000000</td>\n",
       "      <td>8.000000</td>\n",
       "    </tr>\n",
       "    <tr>\n",
       "      <th>50%</th>\n",
       "      <td>4.000000</td>\n",
       "      <td>1.000000</td>\n",
       "      <td>10.000000</td>\n",
       "    </tr>\n",
       "    <tr>\n",
       "      <th>75%</th>\n",
       "      <td>5.000000</td>\n",
       "      <td>2.000000</td>\n",
       "      <td>12.000000</td>\n",
       "    </tr>\n",
       "    <tr>\n",
       "      <th>max</th>\n",
       "      <td>11.000000</td>\n",
       "      <td>5.000000</td>\n",
       "      <td>21.000000</td>\n",
       "    </tr>\n",
       "  </tbody>\n",
       "</table>\n",
       "</div>"
      ],
      "text/plain": [
       "       monthly_logins  redemptions   app_opens\n",
       "count      500.000000   500.000000  500.000000\n",
       "mean         4.006000     1.586000   10.042000\n",
       "std          1.978331     1.047281    3.017025\n",
       "min          0.000000     0.000000    3.000000\n",
       "25%          3.000000     1.000000    8.000000\n",
       "50%          4.000000     1.000000   10.000000\n",
       "75%          5.000000     2.000000   12.000000\n",
       "max         11.000000     5.000000   21.000000"
      ]
     },
     "metadata": {},
     "output_type": "display_data"
    },
    {
     "name": "stdout",
     "output_type": "stream",
     "text": [
      "\n",
      "Engagements - members with zero redemptions:\n"
     ]
    },
    {
     "data": {
      "text/plain": [
       "np.int64(71)"
      ]
     },
     "metadata": {},
     "output_type": "display_data"
    }
   ],
   "source": [
    "# Explore the remaining dataframes: df_merchants, df_transactions, df_engagements\n",
    "\n",
    "# Merchants: unique categories, locations, join date range\n",
    "print(\"Merchant categories:\")\n",
    "display(df_merchants['category'].value_counts())\n",
    "print(\"\\nMerchant locations:\")\n",
    "display(df_merchants['location'].value_counts())\n",
    "print(\"\\nMerchant join date range:\")\n",
    "display(df_merchants['join_date'].min(), df_merchants['join_date'].max())\n",
    "\n",
    "# Transactions: spend amount distribution, transaction date range, unique merchants/members\n",
    "print(\"\\nTransaction spend amount stats:\")\n",
    "display(df_transactions['spend_amount'].describe())\n",
    "print(\"\\nTransaction date range:\")\n",
    "display(df_transactions['timestamp'].min(), df_transactions['timestamp'].max())\n",
    "print(\"\\nUnique merchants in transactions:\", df_transactions['merchant_id'].nunique())\n",
    "print(\"Unique members in transactions:\", df_transactions['member_id'].nunique())\n",
    "\n",
    "# Engagements: summary statistics\n",
    "print(\"\\nEngagement metrics summary:\")\n",
    "display(df_engagements.describe())\n",
    "print(\"\\nEngagements - members with zero redemptions:\")\n",
    "display((df_engagements['redemptions'] == 0).sum())"
   ]
  },
  {
   "cell_type": "code",
   "execution_count": null,
   "id": "ca94a274",
   "metadata": {},
   "outputs": [],
   "source": []
  },
  {
   "cell_type": "code",
   "execution_count": 17,
   "id": "557556ec",
   "metadata": {},
   "outputs": [
    {
     "name": "stderr",
     "output_type": "stream",
     "text": [
      "C:\\Users\\User\\AppData\\Local\\Temp\\ipykernel_25924\\3578433279.py:6: DeprecationWarning: DataFrameGroupBy.apply operated on the grouping columns. This behavior is deprecated, and in a future version of pandas the grouping columns will be excluded from the operation. Either pass `include_groups=False` to exclude the groupings or explicitly select the grouping columns after groupby to silence this warning.\n",
      "  avg_spend_per_member = df_transactions.groupby('merchant_id').apply(\n"
     ]
    }
   ],
   "source": [
    "# 2. Merchant Performance Metrics\n",
    "# - Number of active members per merchant\n",
    "active_members = df_transactions.groupby('merchant_id')['member_id'].nunique()\n",
    "\n",
    "# - Average spend per member per merchant\n",
    "avg_spend_per_member = df_transactions.groupby('merchant_id').apply(\n",
    "    lambda x: x['spend_amount'].sum() / x['member_id'].nunique()\n",
    ")\n",
    "\n",
    "# - Retention rate (e.g., members with >1 transaction at the same merchant)\n",
    "retained = df_transactions.groupby(['merchant_id', 'member_id']).size().reset_index(name='tx_count')\n",
    "retention = retained[retained['tx_count'] > 1].groupby('merchant_id').size() / active_members\n",
    "\n",
    "# - Combine metrics into a summary DataFrame\n",
    "merchant_metrics = pd.DataFrame({\n",
    "    'active_members': active_members,\n",
    "    'avg_spend_per_member': avg_spend_per_member,\n",
    "    'retention_rate': retention\n",
    "}).fillna(0)\n",
    "\n",
    "# - Identify top and bottom merchants\n",
    "top_merchants = merchant_metrics.sort_values('avg_spend_per_member', ascending=False).head()\n",
    "bottom_merchants = merchant_metrics.sort_values('avg_spend_per_member').head()"
   ]
  },
  {
   "cell_type": "code",
   "execution_count": 18,
   "id": "cb617e86",
   "metadata": {},
   "outputs": [
    {
     "data": {
      "text/html": [
       "<div>\n",
       "<style scoped>\n",
       "    .dataframe tbody tr th:only-of-type {\n",
       "        vertical-align: middle;\n",
       "    }\n",
       "\n",
       "    .dataframe tbody tr th {\n",
       "        vertical-align: top;\n",
       "    }\n",
       "\n",
       "    .dataframe thead th {\n",
       "        text-align: right;\n",
       "    }\n",
       "</style>\n",
       "<table border=\"1\" class=\"dataframe\">\n",
       "  <thead>\n",
       "    <tr style=\"text-align: right;\">\n",
       "      <th></th>\n",
       "      <th>active_members</th>\n",
       "      <th>avg_spend_per_member</th>\n",
       "      <th>retention_rate</th>\n",
       "    </tr>\n",
       "    <tr>\n",
       "      <th>merchant_id</th>\n",
       "      <th></th>\n",
       "      <th></th>\n",
       "      <th></th>\n",
       "    </tr>\n",
       "  </thead>\n",
       "  <tbody>\n",
       "    <tr>\n",
       "      <th>MER014</th>\n",
       "      <td>120</td>\n",
       "      <td>64.386417</td>\n",
       "      <td>0.133333</td>\n",
       "    </tr>\n",
       "    <tr>\n",
       "      <th>MER018</th>\n",
       "      <td>137</td>\n",
       "      <td>63.879562</td>\n",
       "      <td>0.189781</td>\n",
       "    </tr>\n",
       "    <tr>\n",
       "      <th>MER020</th>\n",
       "      <td>122</td>\n",
       "      <td>62.311721</td>\n",
       "      <td>0.155738</td>\n",
       "    </tr>\n",
       "    <tr>\n",
       "      <th>MER010</th>\n",
       "      <td>140</td>\n",
       "      <td>61.153000</td>\n",
       "      <td>0.121429</td>\n",
       "    </tr>\n",
       "    <tr>\n",
       "      <th>MER012</th>\n",
       "      <td>123</td>\n",
       "      <td>60.459187</td>\n",
       "      <td>0.146341</td>\n",
       "    </tr>\n",
       "  </tbody>\n",
       "</table>\n",
       "</div>"
      ],
      "text/plain": [
       "             active_members  avg_spend_per_member  retention_rate\n",
       "merchant_id                                                      \n",
       "MER014                  120             64.386417        0.133333\n",
       "MER018                  137             63.879562        0.189781\n",
       "MER020                  122             62.311721        0.155738\n",
       "MER010                  140             61.153000        0.121429\n",
       "MER012                  123             60.459187        0.146341"
      ]
     },
     "execution_count": 18,
     "metadata": {},
     "output_type": "execute_result"
    }
   ],
   "source": [
    "top_merchants"
   ]
  },
  {
   "cell_type": "code",
   "execution_count": 19,
   "id": "a2133d86",
   "metadata": {},
   "outputs": [
    {
     "data": {
      "text/html": [
       "<div>\n",
       "<style scoped>\n",
       "    .dataframe tbody tr th:only-of-type {\n",
       "        vertical-align: middle;\n",
       "    }\n",
       "\n",
       "    .dataframe tbody tr th {\n",
       "        vertical-align: top;\n",
       "    }\n",
       "\n",
       "    .dataframe thead th {\n",
       "        text-align: right;\n",
       "    }\n",
       "</style>\n",
       "<table border=\"1\" class=\"dataframe\">\n",
       "  <thead>\n",
       "    <tr style=\"text-align: right;\">\n",
       "      <th></th>\n",
       "      <th>active_members</th>\n",
       "      <th>avg_spend_per_member</th>\n",
       "      <th>retention_rate</th>\n",
       "    </tr>\n",
       "    <tr>\n",
       "      <th>merchant_id</th>\n",
       "      <th></th>\n",
       "      <th></th>\n",
       "      <th></th>\n",
       "    </tr>\n",
       "  </thead>\n",
       "  <tbody>\n",
       "    <tr>\n",
       "      <th>MER019</th>\n",
       "      <td>130</td>\n",
       "      <td>50.605769</td>\n",
       "      <td>0.084615</td>\n",
       "    </tr>\n",
       "    <tr>\n",
       "      <th>MER009</th>\n",
       "      <td>135</td>\n",
       "      <td>51.028815</td>\n",
       "      <td>0.118519</td>\n",
       "    </tr>\n",
       "    <tr>\n",
       "      <th>MER017</th>\n",
       "      <td>143</td>\n",
       "      <td>52.404615</td>\n",
       "      <td>0.125874</td>\n",
       "    </tr>\n",
       "    <tr>\n",
       "      <th>MER001</th>\n",
       "      <td>149</td>\n",
       "      <td>52.775302</td>\n",
       "      <td>0.114094</td>\n",
       "    </tr>\n",
       "    <tr>\n",
       "      <th>MER015</th>\n",
       "      <td>125</td>\n",
       "      <td>55.014320</td>\n",
       "      <td>0.120000</td>\n",
       "    </tr>\n",
       "  </tbody>\n",
       "</table>\n",
       "</div>"
      ],
      "text/plain": [
       "             active_members  avg_spend_per_member  retention_rate\n",
       "merchant_id                                                      \n",
       "MER019                  130             50.605769        0.084615\n",
       "MER009                  135             51.028815        0.118519\n",
       "MER017                  143             52.404615        0.125874\n",
       "MER001                  149             52.775302        0.114094\n",
       "MER015                  125             55.014320        0.120000"
      ]
     },
     "execution_count": 19,
     "metadata": {},
     "output_type": "execute_result"
    }
   ],
   "source": [
    "bottom_merchants"
   ]
  },
  {
   "cell_type": "code",
   "execution_count": null,
   "id": "e2e6c80b",
   "metadata": {},
   "outputs": [],
   "source": []
  },
  {
   "cell_type": "markdown",
   "id": "6be654dd",
   "metadata": {
    "vscode": {
     "languageId": "markdown"
    }
   },
   "source": [
    "## Summary of Key Findings\n",
    "\n",
    "- **Member Distribution:** Johor (111) and Kuala Lumpur (108) have the highest member counts, followed by Sabah and Selangor (100 each), and Penang (81).\n",
    "- **Age Groups:** The largest segment is 55+ (107), followed by 35-44 (106), 25-34 (106), 18-24 (98), and 45-54 (83). The member base skews older.\n",
    "- **State vs Age:** KL and Selangor have many 55+ members; Sabah’s distribution is more balanced across age groups.\n",
    "- **Signup Trends:** Member signups peaked in April, May, August, and December 2022, likely due to campaigns or seasonality.\n",
    "- **Merchants:** 20 merchants across various categories and locations, with join dates from early 2021 to late 2022.\n",
    "- **Transactions:** 3,000 transactions, with a wide range of spend amounts and active participation from both members and merchants.\n",
    "- **Engagement:** Most members have some engagement, but a notable number have zero redemptions.\n",
    "\n",
    "**Merchant Performance Analysis:**\n",
    "- **Active Members per Merchant:** There is significant variation in the number of unique members transacting with each merchant.\n",
    "- **Average Spend per Member:** Top merchants have much higher average spend per member, indicating strong customer value, while bottom merchants lag behind.\n",
    "- **Retention Rate:** Some merchants have higher retention rates (members making repeat purchases), while others struggle to retain customers.\n",
    "- **Top Merchants:** Identified by highest average spend per member and strong retention.\n",
    "- **Bottom Merchants:** Identified by lowest average spend per member and low retention.\n",
    "\n",
    "**Insights:**\n",
    "- The platform is strongest in Johor and KL, especially among older members.\n",
    "- Some states (e.g., Penang) and age groups (e.g., 45-54) are underrepresented, suggesting opportunities for targeted growth.\n",
    "- Engagement and transaction activity is healthy, but some members are not redeeming, indicating potential for improved engagement strategies.\n",
    "- Merchant performance is uneven; a few merchants drive most value, while others underperform in both spend and retention.\n",
    "\n",
    "**Recommendations:**\n",
    "- Target marketing to underrepresented states and age groups.\n",
    "- Investigate what drove signup spikes for future campaigns.\n",
    "- Encourage engagement and redemptions among less active members.\n",
    "- Support underperforming merchants with tailored strategies (e.g., promotions, loyalty incentives) to boost member activity and retention.\n",
    "- Analyze top merchant practices and replicate successful tactics across the merchant base."
   ]
  },
  {
   "cell_type": "code",
   "execution_count": null,
   "id": "baf3c623",
   "metadata": {},
   "outputs": [],
   "source": []
  }
 ],
 "metadata": {
  "kernelspec": {
   "display_name": "Python 3",
   "language": "python",
   "name": "python3"
  },
  "language_info": {
   "codemirror_mode": {
    "name": "ipython",
    "version": 3
   },
   "file_extension": ".py",
   "mimetype": "text/x-python",
   "name": "python",
   "nbconvert_exporter": "python",
   "pygments_lexer": "ipython3",
   "version": "3.11.9"
  }
 },
 "nbformat": 4,
 "nbformat_minor": 5
}
